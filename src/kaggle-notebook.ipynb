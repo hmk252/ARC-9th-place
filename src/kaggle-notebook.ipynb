{
 "cells": [
  {
   "cell_type": "code",
   "execution_count": 1,
   "id": "6167831c",
   "metadata": {
    "execution": {
     "iopub.execute_input": "2024-11-25T19:14:25.246530Z",
     "iopub.status.busy": "2024-11-25T19:14:25.246174Z",
     "iopub.status.idle": "2024-11-25T19:14:39.092178Z",
     "shell.execute_reply": "2024-11-25T19:14:39.090865Z"
    },
    "papermill": {
     "duration": 13.852624,
     "end_time": "2024-11-25T19:14:39.094959",
     "exception": false,
     "start_time": "2024-11-25T19:14:25.242335",
     "status": "completed"
    },
    "tags": []
   },
   "outputs": [
    {
     "name": "stdout",
     "output_type": "stream",
     "text": [
      "Icecuber intialized.\n"
     ]
    }
   ],
   "source": [
    "import sys\n",
    "import os\n",
    "import json\n",
    "\n",
    "sys.path.append('/kaggle/input/arc-9th-place-src/')\n",
    "from solved_tasks import initialize_icecuber\n",
    "initialize_icecuber()"
   ]
  },
  {
   "cell_type": "code",
   "execution_count": 2,
   "id": "ac614d97",
   "metadata": {
    "execution": {
     "iopub.execute_input": "2024-11-25T19:14:39.102905Z",
     "iopub.status.busy": "2024-11-25T19:14:39.102337Z",
     "iopub.status.idle": "2024-11-25T19:14:56.187714Z",
     "shell.execute_reply": "2024-11-25T19:14:56.186706Z"
    },
    "papermill": {
     "duration": 17.091458,
     "end_time": "2024-11-25T19:14:56.189840",
     "exception": false,
     "start_time": "2024-11-25T19:14:39.098382",
     "status": "completed"
    },
    "tags": []
   },
   "outputs": [
    {
     "name": "stdout",
     "output_type": "stream",
     "text": [
      "Using pip 23.3.2 from /opt/conda/lib/python3.10/site-packages/pip (python 3.10)\n",
      "Processing /kaggle/working/arc-2020-ninth-place-setup\n",
      "  Preparing metadata (setup.py): started\n"
     ]
    },
    {
     "name": "stderr",
     "output_type": "stream",
     "text": [
      "  Running command python setup.py egg_info\n",
      "  /opt/conda/lib/python3.10/site-packages/setuptools/__init__.py:80: _DeprecatedInstaller: setuptools.installer and fetch_build_eggs are deprecated.\n",
      "  !!\n",
      "\n",
      "          ********************************************************************************\n",
      "          Requirements should be satisfied by a PEP 517 installer.\n",
      "          If you are using pip, you can try `pip install --use-pep517`.\n",
      "          ********************************************************************************\n",
      "\n",
      "  !!\n",
      "    dist.fetch_build_eggs(dist.setup_requires)\n",
      "  \u001b[2;36m[11/25/24 19:14:42]\u001b[0m\u001b[2;36m \u001b[0m\u001b[1;31mERROR   \u001b[0m listing git files failed - pretending     \u001b]8;id=183423;file:///opt/conda/lib/python3.10/site-packages/setuptools_scm/_file_finders/git.py\u001b\\\u001b[2mgit.py\u001b[0m\u001b]8;;\u001b\\\u001b[2m:\u001b[0m\u001b]8;id=467880;file:///opt/conda/lib/python3.10/site-packages/setuptools_scm/_file_finders/git.py#26\u001b\\\u001b[2m26\u001b[0m\u001b]8;;\u001b\\\n",
      "  \u001b[2;36m                    \u001b[0m         there aren't any                          \u001b[2m         \u001b[0m\n",
      "  Running command python setup.py bdist_wheel\n"
     ]
    },
    {
     "name": "stdout",
     "output_type": "stream",
     "text": [
      "  Preparing metadata (setup.py): finished with status 'done'\n",
      "Building wheels for collected packages: dsl\n",
      "  Building wheel for dsl (setup.py): started\n"
     ]
    },
    {
     "name": "stderr",
     "output_type": "stream",
     "text": [
      "  /opt/conda/lib/python3.10/site-packages/setuptools/__init__.py:80: _DeprecatedInstaller: setuptools.installer and fetch_build_eggs are deprecated.\n",
      "  !!\n",
      "\n",
      "          ********************************************************************************\n",
      "          Requirements should be satisfied by a PEP 517 installer.\n",
      "          If you are using pip, you can try `pip install --use-pep517`.\n",
      "          ********************************************************************************\n",
      "\n",
      "  !!\n",
      "    dist.fetch_build_eggs(dist.setup_requires)\n",
      "  /opt/conda/lib/python3.10/site-packages/setuptools/_distutils/cmd.py:66: SetuptoolsDeprecationWarning: setup.py install is deprecated.\n",
      "  !!\n",
      "\n",
      "          ********************************************************************************\n",
      "          Please avoid running ``setup.py`` directly.\n",
      "          Instead, use pypa/build, pypa/installer or other\n",
      "          standards-based tools.\n",
      "\n",
      "          See https://blog.ganssle.io/articles/2021/10/setup-py-deprecated.html for details.\n",
      "          ********************************************************************************\n",
      "\n",
      "  !!\n",
      "    self.initialize_options()\n",
      "  \u001b[2;36m[11/25/24 19:14:55]\u001b[0m\u001b[2;36m \u001b[0m\u001b[1;31mERROR   \u001b[0m listing git files failed - pretending     \u001b]8;id=928368;file:///opt/conda/lib/python3.10/site-packages/setuptools_scm/_file_finders/git.py\u001b\\\u001b[2mgit.py\u001b[0m\u001b]8;;\u001b\\\u001b[2m:\u001b[0m\u001b]8;id=652390;file:///opt/conda/lib/python3.10/site-packages/setuptools_scm/_file_finders/git.py#26\u001b\\\u001b[2m26\u001b[0m\u001b]8;;\u001b\\\n",
      "  \u001b[2;36m                    \u001b[0m         there aren't any                          \u001b[2m         \u001b[0m\n"
     ]
    },
    {
     "name": "stdout",
     "output_type": "stream",
     "text": [
      "  Building wheel for dsl (setup.py): finished with status 'done'\n",
      "  Created wheel for dsl: filename=dsl-0.0.1-cp310-cp310-linux_x86_64.whl size=126645 sha256=24cbfaca5c8482a60003b2f783e1a1fe18d644fccc2f5de4b82fff53ce5fe504\n",
      "  Stored in directory: /root/.cache/pip/wheels/b9/46/95/54e5ae93c486a6464aa72d122d2add72641704735a2e366047\n",
      "Successfully built dsl\n",
      "Installing collected packages: dsl\n",
      "Successfully installed dsl-0.0.1\n",
      "Ninth place initialized\n"
     ]
    }
   ],
   "source": [
    "import os\n",
    "from utils import RUNNING_IN_KAGGLE, mySystem\n",
    "from arc_2020_ninth_place_kaggle_imports import initialize_ninth_place\n",
    "if RUNNING_IN_KAGGLE:\n",
    "    mySystem(\"cp -r /kaggle/input/arc-2020-ninth-place-setup /kaggle/working/\")\n",
    "    current_dir = os.getcwd()\n",
    "    os.chdir(\"/kaggle/working/arc-2020-ninth-place-setup\")\n",
    "    initialize_ninth_place()\n",
    "    os.chdir(current_dir)\n",
    "    mySystem(\"rm -r /kaggle/working/arc-2020-ninth-place-setup\")\n",
    "    print(\"Ninth place initialized\")"
   ]
  },
  {
   "cell_type": "code",
   "execution_count": 3,
   "id": "0c9aeb1f",
   "metadata": {
    "execution": {
     "iopub.execute_input": "2024-11-25T19:14:56.196795Z",
     "iopub.status.busy": "2024-11-25T19:14:56.196246Z",
     "iopub.status.idle": "2024-11-25T21:55:01.811557Z",
     "shell.execute_reply": "2024-11-25T21:55:01.809876Z"
    },
    "papermill": {
     "duration": 9605.625906,
     "end_time": "2024-11-25T21:55:01.818397",
     "exception": false,
     "start_time": "2024-11-25T19:14:56.192491",
     "status": "completed"
    },
    "tags": []
   },
   "outputs": [
    {
     "name": "stdout",
     "output_type": "stream",
     "text": [
      "> Solving 1 task using 2020 ninth place solution\n",
      "Done!\n",
      "> Solving 1 task using 4 depth icecuber flipped diagonally\n",
      "Done!\n",
      "> Solving tasks using 2020 second place solution\n",
      "Done!\n",
      "> Solving 26 tasks using ensemble_26\n",
      "> Running non-icecuber solutions from ensemble-26\n",
      "Done!\n",
      "> Solving 1 task using train tasks + icecuber\n",
      "Done!\n",
      "> Solving 1 task by probing\n",
      "Done!\n",
      "> Solving tasks using 2020 second place second part\n",
      "Done!\n",
      "> Solving 1 task using 2020 third place solution\n",
      "Done!\n",
      "> Solving 1 task using 2020 eight place solution\n",
      "Done!\n",
      "> Solving tasks using 2020 second place first part\n",
      "Done!\n",
      "Saved submission.json\n"
     ]
    }
   ],
   "source": [
    "import json\n",
    "from utils import RUNNING_IN_KAGGLE\n",
    "from reader import (\n",
    "    read_all_tasks,\n",
    "    solutions_to_submission_dict,\n",
    "    read_test_tasks,\n",
    ")\n",
    "from ordering import reoder_tasks\n",
    "from classes import Solution\n",
    "from solved_tasks import (\n",
    "    run_solved_tasks_generate_complete_submission_dict,\n",
    "    get_already_solved_task_ids,\n",
    ")\n",
    "from reader import solutions_to_submission_dict\n",
    "from icecuber import icecuber_solve_tasks_parallel\n",
    "from arc_2020_second_place_first_part_original import second_place_first_part_original, second_part_translate_solution\n",
    "from arc_2020_ninth_place import ninth_place_solve_task\n",
    "\n",
    "if not RUNNING_IN_KAGGLE:\n",
    "    already_submitted_tasks_ids = []\n",
    "else:\n",
    "    already_submitted_tasks_ids = get_already_solved_task_ids()\n",
    "\n",
    "if RUNNING_IN_KAGGLE:\n",
    "    test_tasks = read_test_tasks(with_solutions=(False if RUNNING_IN_KAGGLE else True))\n",
    "    test_tasks = [task for task in test_tasks if (task.id not in already_submitted_tasks_ids) and (task.originalId not in already_submitted_tasks_ids)]  # fmt: skip\n",
    "    test_tasks = reoder_tasks(test_tasks)\n",
    "else:\n",
    "    e, h, _ = read_all_tasks(with_solutions=False)\n",
    "    test_tasks = e + h\n",
    "    test_tasks = test_tasks[:100]\n",
    "from utils import diagonal_flip_task, diagonal_flip\n",
    "\n",
    "print(\"> Solving 1 task using 2020 ninth place solution\")\n",
    "nine_place_tasks = test_tasks[57 : len(test_tasks)]\n",
    "nine_place_solutions_dict = {}\n",
    "for task in nine_place_tasks:\n",
    "    task_dict = task.to_dict()\n",
    "    predicted_grids = ninth_place_solve_task(task.id, task_dict)\n",
    "    if len(predicted_grids) < 1:\n",
    "        continue\n",
    "    if len(predicted_grids) == 1:\n",
    "        predicted_grids.append(predicted_grids[0])\n",
    "    test_output_grid_candidates = [predicted_grids[0], predicted_grids[1]]\n",
    "    task_solution = Solution(task.id, test_output_grid_candidates, 99)\n",
    "    nine_place_solutions_dict[task.id] = task_solution\n",
    "print(\"Done!\")\n",
    "\n",
    "print(\"> Solving 1 task using 4 depth icecuber flipped diagonally\")\n",
    "icecuber_tasks = test_tasks[32:48]\n",
    "icecuber_solved_task = None\n",
    "icecuber_solved_task_solution = None\n",
    "max_score = -1\n",
    "for task in icecuber_tasks:\n",
    "    FLIP_DIRECTION = \"main\"\n",
    "    task = diagonal_flip_task(task, FLIP_DIRECTION)\n",
    "    try:\n",
    "        icecuber_solutions_four_depth = icecuber_solve_tasks_parallel([task], depth=44)\n",
    "    except Exception as e:\n",
    "        continue\n",
    "    except MemoryError:\n",
    "        continue\n",
    "\n",
    "    for key, val in icecuber_solutions_four_depth.items():\n",
    "        score = val.train_score\n",
    "        if score > max_score:\n",
    "            max_score = score\n",
    "            icecuber_solved_task = task\n",
    "            val.test_output_grid_candidates = [diagonal_flip(grid, FLIP_DIRECTION) for grid in val.test_output_grid_candidates]\n",
    "            icecuber_solved_task_solution = val\n",
    "print(\"Done!\")\n",
    "\n",
    "print(\"> Solving tasks using 2020 second place solution\")\n",
    "solutions_dict = {}\n",
    "for task in test_tasks:\n",
    "    task_dict = task.to_dict()\n",
    "    solution_grids = []\n",
    "    pred_str = second_place_first_part_original(task.id, task.to_dict(), \"production\")\n",
    "    solution = second_part_translate_solution(task.id, pred_str)\n",
    "    solutions_dict[task.id] = solution\n",
    "print(\"Done!\")\n",
    "\n",
    "if RUNNING_IN_KAGGLE:\n",
    "    all_test_tasks = read_test_tasks()\n",
    "else:\n",
    "    all_test_tasks = test_tasks\n",
    "\n",
    "if icecuber_solved_task != None:\n",
    "    solutions_dict[icecuber_solved_task.id] = icecuber_solved_task_solution\n",
    "solutions_dict.update(nine_place_solutions_dict)\n",
    "\n",
    "new_submission_dict = solutions_to_submission_dict(solutions_dict, test_tasks)\n",
    "submission_dict = run_solved_tasks_generate_complete_submission_dict()\n",
    "\n",
    "submission_dict.update(new_submission_dict)\n",
    "\n",
    "with open(\"submission.json\", \"w\") as f:\n",
    "    json.dump(submission_dict, f)\n",
    "print(\"Saved submission.json\")"
   ]
  }
 ],
 "metadata": {
  "kaggle": {
   "accelerator": "none",
   "dataSources": [
    {
     "databundleVersionId": 8951125,
     "sourceId": 67357,
     "sourceType": "competition"
    },
    {
     "datasetId": 5416757,
     "sourceId": 9840621,
     "sourceType": "datasetVersion"
    },
    {
     "datasetId": 6161274,
     "sourceId": 10008496,
     "sourceType": "datasetVersion"
    },
    {
     "datasetId": 6161221,
     "sourceId": 10012345,
     "sourceType": "datasetVersion"
    }
   ],
   "dockerImageVersionId": 30746,
   "isGpuEnabled": false,
   "isInternetEnabled": false,
   "language": "python",
   "sourceType": "notebook"
  },
  "kernelspec": {
   "display_name": "Python 3",
   "language": "python",
   "name": "python3"
  },
  "language_info": {
   "codemirror_mode": {
    "name": "ipython",
    "version": 3
   },
   "file_extension": ".py",
   "mimetype": "text/x-python",
   "name": "python",
   "nbconvert_exporter": "python",
   "pygments_lexer": "ipython3",
   "version": "3.10.13"
  },
  "papermill": {
   "default_parameters": {},
   "duration": 9642.13191,
   "end_time": "2024-11-25T21:55:04.174099",
   "environment_variables": {},
   "exception": null,
   "input_path": "__notebook__.ipynb",
   "output_path": "__notebook__.ipynb",
   "parameters": {},
   "start_time": "2024-11-25T19:14:22.042189",
   "version": "2.5.0"
  }
 },
 "nbformat": 4,
 "nbformat_minor": 5
}
